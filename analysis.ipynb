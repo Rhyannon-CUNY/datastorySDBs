{
 "cells": [
  {
   "cell_type": "code",
   "execution_count": 1,
   "id": "7a6fbae2-dae2-48bd-b627-4da09db4b54d",
   "metadata": {},
   "outputs": [],
   "source": [
    "import pandas as pd"
   ]
  },
  {
   "cell_type": "code",
   "execution_count": 17,
   "id": "839fc263-0092-405c-90dc-74c4249757af",
   "metadata": {},
   "outputs": [
    {
     "name": "stdout",
     "output_type": "stream",
     "text": [
      "<class 'pandas.core.frame.DataFrame'>\n",
      "RangeIndex: 16385 entries, 0 to 16384\n",
      "Data columns (total 92 columns):\n",
      " #   Column                                       Non-Null Count  Dtype  \n",
      "---  ------                                       --------------  -----  \n",
      " 0   Date Signed / Action Date                    16385 non-null  object \n",
      " 1   FY                                           16385 non-null  int64  \n",
      " 2   Action Type                                  16385 non-null  object \n",
      " 3   Contract Number                              16385 non-null  object \n",
      " 4   Contract Name                                16385 non-null  object \n",
      " 5   Contract Vehicle                             6640 non-null   object \n",
      " 6   Reason For Mod                               16385 non-null  object \n",
      " 7   Action Amt ($K)                              16385 non-null  float64\n",
      " 8   Contract FY 2024 Spend ($K)                  2663 non-null   float64\n",
      " 9   Contract Spend to Date ($K)                  12354 non-null  float64\n",
      " 10  Contract Ceiling Value ($K)                  12354 non-null  float64\n",
      " 11  Contract Award Date                          12354 non-null  object \n",
      " 12  Contract Start Date                          12354 non-null  object \n",
      " 13  Contract Last Date to Order                  6525 non-null   object \n",
      " 14  Contract Ultimate Expiration Date            5829 non-null   object \n",
      " 15  Ultimate Completion Date of Transaction      15513 non-null  object \n",
      " 16  Task Order Number                            9863 non-null   object \n",
      " 17  Modification Number                          16385 non-null  object \n",
      " 18  Task Order Award Date                        10003 non-null  object \n",
      " 19  Task Order Start Date                        10003 non-null  object \n",
      " 20  Task Order Ultimate Expiration Date          9684 non-null   object \n",
      " 21  Task Order FY 2024 Spending ($K)             3451 non-null   float64\n",
      " 22  Task Order Spending to Date ($K)             10003 non-null  float64\n",
      " 23  Task Order Ceiling Value ($K)                9987 non-null   float64\n",
      " 24  Task Order Percent of Ceiling Value Spent    5326 non-null   float64\n",
      " 25  Funding Department                           16385 non-null  object \n",
      " 26  Funding Agency                               15395 non-null  object \n",
      " 27  Funding Division                             6554 non-null   object \n",
      " 28  Funding Office                               2020 non-null   object \n",
      " 29  Contracting Department                       16385 non-null  object \n",
      " 30  Contracting Agency                           15648 non-null  object \n",
      " 31  Contracting Division                         7056 non-null   object \n",
      " 32  Contracting Office                           2280 non-null   object \n",
      " 33  Category                                     16385 non-null  object \n",
      " 34  Product or Service                           16385 non-null  object \n",
      " 35  PSC-Description                              16385 non-null  object \n",
      " 36  NAICS-Description                            16385 non-null  object \n",
      " 37  Vendor                                       16385 non-null  object \n",
      " 38  UEI                                          16385 non-null  object \n",
      " 39  Contract Requirement Description             16385 non-null  object \n",
      " 40  Requirement Category                         7598 non-null   object \n",
      " 41  CO Business Size Determination               16385 non-null  object \n",
      " 42  Small Disadvantaged Business                 16385 non-null  object \n",
      " 43  Self Certified Small Disadvantaged Business  16385 non-null  object \n",
      " 44  8(a)                                         16385 non-null  object \n",
      " 45  SBA Certified 8(a) JV                        16385 non-null  object \n",
      " 46  Veteran Owned                                16385 non-null  object \n",
      " 47  Service-Disabled Veteran Owned               16385 non-null  object \n",
      " 48  HUBZone                                      16385 non-null  object \n",
      " 49  Self Certified HUBZone JV                    16385 non-null  object \n",
      " 50  Woman Owned                                  16385 non-null  object \n",
      " 51  Woman Owned Small Business                   16385 non-null  object \n",
      " 52  EDWOSB                                       16385 non-null  object \n",
      " 53  WOSB JV                                      16385 non-null  object \n",
      " 54  EDWOSB JV                                    16385 non-null  object \n",
      " 55  Alaska Native Corporation Owned              16385 non-null  object \n",
      " 56  AbilityOne                                   16385 non-null  object \n",
      " 57  Contract Type                                16385 non-null  object \n",
      " 58  Set-Aside                                    16385 non-null  object \n",
      " 59  Extent Competed                              16385 non-null  object \n",
      " 60  Solicitation Procedure                       16385 non-null  object \n",
      " 61  Place of Performance City                    15022 non-null  object \n",
      " 62  Place of Performance State                   15022 non-null  object \n",
      " 63  Place of Performance Country                 16385 non-null  object \n",
      " 64  Place of Performance Country Code            15513 non-null  object \n",
      " 65  Unnamed: 65                                  0 non-null      float64\n",
      " 66  Unnamed: 66                                  0 non-null      float64\n",
      " 67  Unnamed: 67                                  0 non-null      float64\n",
      " 68  Unnamed: 68                                  0 non-null      float64\n",
      " 69  Unnamed: 69                                  0 non-null      float64\n",
      " 70  Unnamed: 70                                  0 non-null      float64\n",
      " 71  Unnamed: 71                                  0 non-null      float64\n",
      " 72  Unnamed: 72                                  0 non-null      float64\n",
      " 73  Unnamed: 73                                  0 non-null      float64\n",
      " 74  Unnamed: 74                                  0 non-null      float64\n",
      " 75  Unnamed: 75                                  0 non-null      float64\n",
      " 76  Unnamed: 76                                  0 non-null      float64\n",
      " 77  Unnamed: 77                                  0 non-null      float64\n",
      " 78  Unnamed: 78                                  0 non-null      float64\n",
      " 79  Unnamed: 79                                  0 non-null      float64\n",
      " 80  Unnamed: 80                                  0 non-null      float64\n",
      " 81  Unnamed: 81                                  0 non-null      float64\n",
      " 82  Unnamed: 82                                  0 non-null      float64\n",
      " 83  Unnamed: 83                                  0 non-null      float64\n",
      " 84  Unnamed: 84                                  0 non-null      float64\n",
      " 85  Unnamed: 85                                  0 non-null      float64\n",
      " 86  Unnamed: 86                                  0 non-null      float64\n",
      " 87  Unnamed: 87                                  0 non-null      float64\n",
      " 88  Unnamed: 88                                  0 non-null      float64\n",
      " 89  Unnamed: 89                                  0 non-null      float64\n",
      " 90  Unnamed: 90                                  0 non-null      float64\n",
      " 91  Unnamed: 91                                  0 non-null      float64\n",
      "dtypes: float64(35), int64(1), object(56)\n",
      "memory usage: 11.5+ MB\n"
     ]
    }
   ],
   "source": [
    "df = pd.read_csv(\"data/DeltekDataMay2025.csv\", low_memory=False )\n",
    "df.info()"
   ]
  },
  {
   "cell_type": "code",
   "execution_count": 23,
   "id": "a3774391-9c7f-4992-b61c-464891d12eff",
   "metadata": {},
   "outputs": [
    {
     "name": "stdout",
     "output_type": "stream",
     "text": [
      "<class 'pandas.core.frame.DataFrame'>\n",
      "RangeIndex: 16385 entries, 0 to 16384\n",
      "Data columns (total 92 columns):\n",
      " #   Column                                       Non-Null Count  Dtype   \n",
      "---  ------                                       --------------  -----   \n",
      " 0   Date Signed / Action Date                    16385 non-null  object  \n",
      " 1   FY                                           16385 non-null  int64   \n",
      " 2   Action Type                                  16385 non-null  object  \n",
      " 3   Contract Number                              16385 non-null  object  \n",
      " 4   Contract Name                                16385 non-null  object  \n",
      " 5   Contract Vehicle                             6640 non-null   object  \n",
      " 6   Reason For Mod                               16385 non-null  object  \n",
      " 7   Action Amt ($K)                              16385 non-null  float64 \n",
      " 8   Contract FY 2024 Spend ($K)                  2663 non-null   float64 \n",
      " 9   Contract Spend to Date ($K)                  12354 non-null  float64 \n",
      " 10  Contract Ceiling Value ($K)                  12354 non-null  float64 \n",
      " 11  Contract Award Date                          12354 non-null  object  \n",
      " 12  Contract Start Date                          12354 non-null  object  \n",
      " 13  Contract Last Date to Order                  6525 non-null   object  \n",
      " 14  Contract Ultimate Expiration Date            5829 non-null   object  \n",
      " 15  Ultimate Completion Date of Transaction      15513 non-null  object  \n",
      " 16  Task Order Number                            9863 non-null   object  \n",
      " 17  Modification Number                          16385 non-null  object  \n",
      " 18  Task Order Award Date                        10003 non-null  object  \n",
      " 19  Task Order Start Date                        10003 non-null  object  \n",
      " 20  Task Order Ultimate Expiration Date          9684 non-null   object  \n",
      " 21  Task Order FY 2024 Spending ($K)             3451 non-null   float64 \n",
      " 22  Task Order Spending to Date ($K)             10003 non-null  float64 \n",
      " 23  Task Order Ceiling Value ($K)                9987 non-null   float64 \n",
      " 24  Task Order Percent of Ceiling Value Spent    5326 non-null   float64 \n",
      " 25  Funding Department                           16385 non-null  object  \n",
      " 26  Funding Agency                               15395 non-null  object  \n",
      " 27  Funding Division                             6554 non-null   object  \n",
      " 28  Funding Office                               2020 non-null   object  \n",
      " 29  Contracting Department                       16385 non-null  object  \n",
      " 30  Contracting Agency                           15648 non-null  object  \n",
      " 31  Contracting Division                         7056 non-null   object  \n",
      " 32  Contracting Office                           2280 non-null   object  \n",
      " 33  Category                                     16385 non-null  object  \n",
      " 34  Product or Service                           16385 non-null  object  \n",
      " 35  PSC-Description                              16385 non-null  object  \n",
      " 36  NAICS-Description                            16385 non-null  object  \n",
      " 37  Vendor                                       16385 non-null  object  \n",
      " 38  UEI                                          16385 non-null  object  \n",
      " 39  Contract Requirement Description             16385 non-null  object  \n",
      " 40  Requirement Category                         7598 non-null   object  \n",
      " 41  CO Business Size Determination               16385 non-null  category\n",
      " 42  Small Disadvantaged Business                 16385 non-null  category\n",
      " 43  Self Certified Small Disadvantaged Business  16385 non-null  category\n",
      " 44  8(a)                                         16385 non-null  object  \n",
      " 45  SBA Certified 8(a) JV                        16385 non-null  object  \n",
      " 46  Veteran Owned                                16385 non-null  object  \n",
      " 47  Service-Disabled Veteran Owned               16385 non-null  object  \n",
      " 48  HUBZone                                      16385 non-null  category\n",
      " 49  Self Certified HUBZone JV                    16385 non-null  object  \n",
      " 50  Woman Owned                                  16385 non-null  object  \n",
      " 51  Woman Owned Small Business                   16385 non-null  object  \n",
      " 52  EDWOSB                                       16385 non-null  object  \n",
      " 53  WOSB JV                                      16385 non-null  object  \n",
      " 54  EDWOSB JV                                    16385 non-null  object  \n",
      " 55  Alaska Native Corporation Owned              16385 non-null  object  \n",
      " 56  AbilityOne                                   16385 non-null  object  \n",
      " 57  Contract Type                                16385 non-null  object  \n",
      " 58  Set-Aside                                    16385 non-null  object  \n",
      " 59  Extent Competed                              16385 non-null  object  \n",
      " 60  Solicitation Procedure                       16385 non-null  category\n",
      " 61  Place of Performance City                    15022 non-null  object  \n",
      " 62  Place of Performance State                   15022 non-null  object  \n",
      " 63  Place of Performance Country                 16385 non-null  object  \n",
      " 64  Place of Performance Country Code            15513 non-null  object  \n",
      " 65  Unnamed: 65                                  0 non-null      float64 \n",
      " 66  Unnamed: 66                                  0 non-null      float64 \n",
      " 67  Unnamed: 67                                  0 non-null      float64 \n",
      " 68  Unnamed: 68                                  0 non-null      float64 \n",
      " 69  Unnamed: 69                                  0 non-null      float64 \n",
      " 70  Unnamed: 70                                  0 non-null      float64 \n",
      " 71  Unnamed: 71                                  0 non-null      float64 \n",
      " 72  Unnamed: 72                                  0 non-null      float64 \n",
      " 73  Unnamed: 73                                  0 non-null      float64 \n",
      " 74  Unnamed: 74                                  0 non-null      float64 \n",
      " 75  Unnamed: 75                                  0 non-null      float64 \n",
      " 76  Unnamed: 76                                  0 non-null      float64 \n",
      " 77  Unnamed: 77                                  0 non-null      float64 \n",
      " 78  Unnamed: 78                                  0 non-null      float64 \n",
      " 79  Unnamed: 79                                  0 non-null      float64 \n",
      " 80  Unnamed: 80                                  0 non-null      float64 \n",
      " 81  Unnamed: 81                                  0 non-null      float64 \n",
      " 82  Unnamed: 82                                  0 non-null      float64 \n",
      " 83  Unnamed: 83                                  0 non-null      float64 \n",
      " 84  Unnamed: 84                                  0 non-null      float64 \n",
      " 85  Unnamed: 85                                  0 non-null      float64 \n",
      " 86  Unnamed: 86                                  0 non-null      float64 \n",
      " 87  Unnamed: 87                                  0 non-null      float64 \n",
      " 88  Unnamed: 88                                  0 non-null      float64 \n",
      " 89  Unnamed: 89                                  0 non-null      float64 \n",
      " 90  Unnamed: 90                                  0 non-null      float64 \n",
      " 91  Unnamed: 91                                  0 non-null      float64 \n",
      "dtypes: category(5), float64(35), int64(1), object(51)\n",
      "memory usage: 11.0+ MB\n"
     ]
    }
   ],
   "source": [
    "df[[\"Solicitation Procedure\",\"CO Business Size Determination\",\"Small Disadvantaged Business\", \"Self Certified Small Disadvantaged Business\",\"HUBZone\"]]=df[[\"Solicitation Procedure\",\"CO Business Size Determination\",\"Small Disadvantaged Business\", \"Self Certified Small Disadvantaged Business\",\"HUBZone\"]].astype(\"category\")\n",
    "df.info()"
   ]
  },
  {
   "cell_type": "code",
   "execution_count": null,
   "id": "d9a16d56-e16e-4648-843e-cf97ae7ae149",
   "metadata": {},
   "outputs": [],
   "source": [
    "filtered_df = df.query(\"'Reason For Mod'] == 'Terminate for Convenience (complete or partial)']"
   ]
  },
  {
   "cell_type": "code",
   "execution_count": null,
   "id": "a26cdbbe-de4f-4fc9-bf0b-956d98fd8a04",
   "metadata": {},
   "outputs": [],
   "source": [
    "filtered_df.groupby('Small Disadvantaged Business').count()"
   ]
  },
  {
   "cell_type": "code",
   "execution_count": null,
   "id": "93d5653f-470a-4e3d-b4dd-6da1e7868f1d",
   "metadata": {},
   "outputs": [],
   "source": [
    "filtered_df.groupby('Self Certified Small Disadvantaged Business').count()"
   ]
  },
  {
   "cell_type": "code",
   "execution_count": null,
   "id": "247573f8-bf36-45ff-88c6-649210b12430",
   "metadata": {},
   "outputs": [],
   "source": [
    "filtered_df.groupby('Self Certified Small Disadvantaged Business')['Action Amt ($K)'].sum().to_frame()"
   ]
  },
  {
   "cell_type": "code",
   "execution_count": null,
   "id": "fc3756be-b395-4e96-9c19-f8f88fb57074",
   "metadata": {},
   "outputs": [],
   "source": [
    "total_value=filtered_df['Action Amt ($K)'].sum()\n",
    "total_value"
   ]
  },
  {
   "cell_type": "code",
   "execution_count": null,
   "id": "8fc7734f-552b-40ca-9304-1a31e678a180",
   "metadata": {},
   "outputs": [],
   "source": [
    "self_certified_value = 130301.97/total_value*100\n",
    "self_certified_value"
   ]
  },
  {
   "cell_type": "code",
   "execution_count": null,
   "id": "e1fca7ba-52b2-4e71-9335-6f7b6b161924",
   "metadata": {},
   "outputs": [],
   "source": [
    "self_certified_ratio = 3228/(3228+13157)\n",
    "self_certified_ratio"
   ]
  },
  {
   "cell_type": "code",
   "execution_count": null,
   "id": "cce71f60-5194-45f5-a527-998c45225eee",
   "metadata": {},
   "outputs": [],
   "source": [
    "SDB_df = filtered_df[df['Self Certified Small Disadvantaged Business'] == 'Y']\n",
    "SDB_df['Self Certified Small Disadvantaged Business'].sample(10)"
   ]
  },
  {
   "cell_type": "code",
   "execution_count": null,
   "id": "bd4ffd66-c180-4819-a0f4-bcd5e437ee28",
   "metadata": {},
   "outputs": [],
   "source": [
    "SDB_df.groupby(['Vendor'])['Action Amt ($K)'].count().nlargest(20)"
   ]
  },
  {
   "cell_type": "code",
   "execution_count": null,
   "id": "3da051aa-54b8-4843-815a-f3094acf0c40",
   "metadata": {},
   "outputs": [],
   "source": [
    "SDB_df.groupby(['Vendor'])['Action Amt ($K)'].sum().nlargest(20)"
   ]
  },
  {
   "cell_type": "code",
   "execution_count": null,
   "id": "1007bad0-5d9c-450e-ac58-113da3555ce3",
   "metadata": {},
   "outputs": [],
   "source": []
  },
  {
   "cell_type": "code",
   "execution_count": null,
   "id": "d1304d51-9fc1-4865-a495-d20cb5f6ca0d",
   "metadata": {},
   "outputs": [],
   "source": []
  }
 ],
 "metadata": {
  "kernelspec": {
   "display_name": "Python [conda env:base] *",
   "language": "python",
   "name": "conda-base-py"
  },
  "language_info": {
   "codemirror_mode": {
    "name": "ipython",
    "version": 3
   },
   "file_extension": ".py",
   "mimetype": "text/x-python",
   "name": "python",
   "nbconvert_exporter": "python",
   "pygments_lexer": "ipython3",
   "version": "3.12.7"
  }
 },
 "nbformat": 4,
 "nbformat_minor": 5
}
